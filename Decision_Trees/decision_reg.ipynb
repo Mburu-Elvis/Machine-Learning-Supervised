{
 "cells": [
  {
   "cell_type": "markdown",
   "metadata": {},
   "source": [
    "# Decision Trees\n",
    "\n",
    "A decision tree is decision support hierarchical model that uses a tree-like model of decisions and their possible consequences\n",
    "\n",
    "It's a flowchart-like structure in which each internal node represents a `test` on a feature, each branch represents the outcome of the test and the leaf node represents a class label/decision taken computomg all attributes\n",
    "\n",
    "The paths from root to leaf represent classification rules\n",
    "\n",
    "Decision Trees ML algorithm can perform both classification and regression tasks\n",
    "\n",
    "## Types of Decision Trees\n",
    "\n",
    "- **Classification Trees**:- used to perform classification tasks if the output/target variable is categorical in nature\n",
    "\n",
    "- **Regression Trees**:- used to predict in regression tasks if the output/target variable is continuous or numerical in nature\n",
    "\n",
    "## Making Predictions\n",
    "\n",
    "![Decision Tree Example](structure-of-DT.png)\n",
    "\n",
    "You start at the root node(depth 0) where Decision 1 is checked\n",
    "if the feature/variable does not meet the condition(depends of the condition) it moves down left to the roots child node and a new condition is asked of if no other condition the node becomes the leaf node on the left branch <br>\n",
    "if the condition on the root node is met move down right to the root's child node and if not leaf node the process continues until eventually leaf nodes are reached"
   ]
  }
 ],
 "metadata": {
  "language_info": {
   "name": "python"
  },
  "orig_nbformat": 4
 },
 "nbformat": 4,
 "nbformat_minor": 2
}
