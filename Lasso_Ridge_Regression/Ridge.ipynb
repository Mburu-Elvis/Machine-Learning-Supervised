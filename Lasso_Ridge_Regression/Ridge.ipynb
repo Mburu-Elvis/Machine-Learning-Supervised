{
 "cells": [
  {
   "cell_type": "markdown",
   "metadata": {},
   "source": [
    "# Ridge Regression\n",
    "\n",
    "It's also called `L2 regularization`\n",
    "\n",
    "It's a regularization version of linear regression\n",
    "\n",
    "It's used to correct multicollinearity in data\n",
    "\n",
    "It uses absolute coefficient values for normalization\n",
    "\n",
    "The cost function is altered by adding the penalty term to it\n",
    "The amount of bias added to the model is called `Ridge Regression Penalty`\n",
    "\n",
    "![ridge regression](ridge.png)\n",
    "\n"
   ]
  },
  {
   "cell_type": "markdown",
   "metadata": {},
   "source": []
  }
 ],
 "metadata": {
  "language_info": {
   "name": "python"
  },
  "orig_nbformat": 4
 },
 "nbformat": 4,
 "nbformat_minor": 2
}
