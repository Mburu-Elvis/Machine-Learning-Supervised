{
 "cells": [
  {
   "cell_type": "markdown",
   "metadata": {},
   "source": [
    "# Logistic Regression\n",
    "\n",
    "It's for classification tasks and not for regression tasks\n",
    "\n",
    "It's a probalistic classification model\n",
    "\n",
    "The name `Regression` implies that a linear model fits into the feature space\n",
    "\n",
    "The algorithm applies a logistic function to a linear combination of features to predict the outcome of a categorical depedent variable based on predictor variable\n",
    "\n",
    "![logistic regression](logReg.png)\n",
    "\n",
    "Where:-\n",
    "- x, independent variable\n",
    "- F(x), dependent variable\n",
    "\n",
    "Logistic regression is classified into 3 categories:-\n",
    "\n",
    "- ***Binary Logistic Regression***:- It's where the categorical response has 2 possible outcomes\n",
    "- ***Multi-Nominal Logistic Regression***:- The categorical response has 3 or more possible outcomes with no ordering\n",
    "- ***Ordinal Logistic Regression***:- The categorical response has 3 or more possible outcomes with natural ordering\n",
    "\n",
    "## When to use Logistic Regression\n",
    "\n",
    "- When there's a requirement to model the probabilities of the response variable as a function of some other explanatory variable\n",
    "- When there's need to predict the probabilities that categorical dependent variable will fall into categories of the binary response of some eplanatory variables\n",
    "\n",
    "## Advantages of Using Logistic Regression\n",
    "\n",
    "- Easier to inspect and less complex\n",
    "- Robust algorithm as the independent variables need not have equal variance or normal distribution\n",
    "- Doesn't assume a linear relationship between the dependent and independent variables\n",
    "- Controls confounding and tests interaction\n",
    "\n",
    "## DisAdvantages of Using Logistic Regression\n",
    "\n",
    "- May overfit if the data is sparse and high dimensional\n",
    "- Cannot predict continuous outcomes\n",
    "- Requires more data to achieve stability and meaningful results\n",
    "- Predicts outcomes depending on a group of independent variables hence need correct variables\n",
    "- Not robust to outliers and missing values\n",
    "\n",
    "## Applications\n",
    "\n",
    "- Applied in epidemiology to identify rist factors for diseases and plan accordingly for preventive measures\n",
    "- Predict whether a candidate will win or lose an election\n",
    "- Used to classify a set of words\n",
    "- Used in weather forecasting to predict the probabilty of raining\n",
    "- Used in credit scoring systems for risk management"
   ]
  }
 ],
 "metadata": {
  "kernelspec": {
   "display_name": "Python 3",
   "language": "python",
   "name": "python3"
  },
  "language_info": {
   "codemirror_mode": {
    "name": "ipython",
    "version": 3
   },
   "file_extension": ".py",
   "mimetype": "text/x-python",
   "name": "python",
   "nbconvert_exporter": "python",
   "pygments_lexer": "ipython3",
   "version": "3.10.12"
  },
  "orig_nbformat": 4
 },
 "nbformat": 4,
 "nbformat_minor": 2
}
